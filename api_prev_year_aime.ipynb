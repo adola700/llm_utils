{
 "cells": [
  {
   "cell_type": "code",
   "execution_count": 13,
   "metadata": {},
   "outputs": [],
   "source": [
    "import pandas as pd\n",
    "from datasets import load_dataset\n",
    "ds = load_dataset(\"gneubig/aime-1983-2024\")[\"train\"]"
   ]
  },
  {
   "cell_type": "code",
   "execution_count": 14,
   "metadata": {},
   "outputs": [],
   "source": [
    "df = pd.DataFrame(ds)[:-14]"
   ]
  },
  {
   "cell_type": "code",
   "execution_count": 15,
   "metadata": {},
   "outputs": [
    {
     "data": {
      "text/plain": [
       "0      Let $x$ , $y$ and $z$ all exceed $1$ and let $...\n",
       "1      Let $f(x)=|x-p|+|x-15|+|x-p-15|$ , where $0 < ...\n",
       "2      What is the product of the real roots of the e...\n",
       "3      A machine-shop cutting tool has the shape of a...\n",
       "4      Suppose that the sum of the squares of two com...\n",
       "                             ...                        \n",
       "914    Find the number of collections of $16$ distinc...\n",
       "915    In $\\triangle ABC$ with side lengths $AB = 13,...\n",
       "916    Let $A$ be an acute angle such that $\\tan A = ...\n",
       "917    A cube-shaped container has vertices $A,$ $B,$...\n",
       "918    For each positive integer $n$ let $a_n$ be the...\n",
       "Name: Question, Length: 919, dtype: object"
      ]
     },
     "execution_count": 15,
     "metadata": {},
     "output_type": "execute_result"
    }
   ],
   "source": [
    "df[\"Question\"]"
   ]
  },
  {
   "cell_type": "code",
   "execution_count": 16,
   "metadata": {},
   "outputs": [],
   "source": [
    "import litellm\n",
    "import os\n",
    "from dotenv import load_dotenv\n",
    "load_dotenv(override=True)\n",
    "from litellm import batch_completion\n",
    "from litellm import completion  \n",
    "import re \n",
    "\n",
    "os.environ[\"OPENAI_API_KEY\"] = \"NhBnln5YRzkZ69ufUvuvo2ZZ6IEQCpbQ\"\n",
    "# os.environ[\"TOGETHERAI_API_KEY\"] = \"tgp_v1_5ZFBneM2MDRlQrcI03AUbu7GtKbuUOSV1C2w0Kayc3k\""
   ]
  },
  {
   "cell_type": "code",
   "execution_count": 18,
   "metadata": {},
   "outputs": [],
   "source": [
    "# response=completion(\n",
    "#     model=\"together_ai/deepseek-ai/DeepSeek-R1\", \n",
    "# messages=[{\"role\": \"user\", \"content\": \"3 + 2*8 = ? Think and asnswer\"}],\n",
    "#     temperature = 0.6,\n",
    "#     max_tokens = 2000,\n",
    "#     # response_format={\"type\":\"json_object\"}\n",
    "# )"
   ]
  },
  {
   "cell_type": "code",
   "execution_count": 20,
   "metadata": {},
   "outputs": [],
   "source": [
    "# response_message = responses[0].choices[0].message\n",
    "\n",
    "# # Check if the attribute exists before accessing it\n",
    "# if hasattr(responses[0].choices[0].message, 'reasoning_content'):\n",
    "#     print(response_message.reasoning_content)\n",
    "# else:\n",
    "#     print(\"The attribute 'reasoning_content' does not exist.\")"
   ]
  },
  {
   "cell_type": "code",
   "execution_count": 21,
   "metadata": {},
   "outputs": [],
   "source": [
    "def inf(start, end):\n",
    "    problems_list = list(df[\"Question\"][start:end])\n",
    "    \n",
    "    batch_prompt=[]\n",
    "    for problem in problems_list:\n",
    "        batch_prompt.append([{\"role\": \"system\", \"content\": \"Please think step-by-step and give final answer using \\\\boxed{}, after taking modulo 1000. Answer by thinking as less as possible, but arriving at the solution.\"},{\"role\": \"user\", \"content\": problem }])\n",
    "        \n",
    "    responses=batch_completion(\n",
    "        model=\"deepinfra/deepseek-ai/DeepSeek-R1\", \n",
    "        messages=batch_prompt,\n",
    "        temperature = 0.6,\n",
    "        max_tokens = 8192,\n",
    "        top_p = 0.95\n",
    "    )\n",
    "\n",
    "    return [response.choices[0].message.reasoning_content if hasattr(response.choices[0].message, 'reasoning_content') else \"ETL\" for response in responses]"
   ]
  },
  {
   "cell_type": "code",
   "execution_count": 22,
   "metadata": {},
   "outputs": [],
   "source": [
    "def extract_boxed_texts(text):\n",
    "    pattern = r'\\\\boxed{((?:[^{}]|{[^{}]*})+)}'\n",
    "    matches = re.findall(pattern, text)\n",
    "    if not matches:\n",
    "        return -1000\n",
    "    ans = []\n",
    "    for content in matches:\n",
    "        if content.isdigit():\n",
    "            num = int(content)\n",
    "            ans.append(num)\n",
    "\n",
    "    if len(ans) > 0: return ans[-1]\n",
    "    return matches[-1]    "
   ]
  },
  {
   "cell_type": "code",
   "execution_count": null,
   "metadata": {},
   "outputs": [],
   "source": [
    "%%time\n",
    "\n",
    "part_1 = inf(0, 200)\n",
    "part_2 = inf(200, 400)\n",
    "part_3 = inf(400, 600)\n",
    "part_4 = inf(600, 800)\n",
    "part_5 = inf(800, len(df))"
   ]
  },
  {
   "cell_type": "code",
   "execution_count": null,
   "metadata": {},
   "outputs": [],
   "source": [
    "round_1 = part_1 + part_2 + part_3 + part_4 + part_5"
   ]
  },
  {
   "cell_type": "code",
   "execution_count": null,
   "metadata": {},
   "outputs": [],
   "source": [
    "answers = [extract_boxed_texts(text) for text in round_1]"
   ]
  },
  {
   "cell_type": "code",
   "execution_count": null,
   "metadata": {},
   "outputs": [],
   "source": [
    "idxs = []\n",
    "for idx, (i, j) in enumerate(zip(answers, list(df[\"Answer\"]))):\n",
    "    if i==j:\n",
    "        idxs.append(idx)"
   ]
  },
  {
   "cell_type": "code",
   "execution_count": null,
   "metadata": {},
   "outputs": [],
   "source": [
    "df[\"correct_responses\"] = [round_1[i] if i in idxs else \"None\" for i in range(len(df))]"
   ]
  },
  {
   "cell_type": "code",
   "execution_count": null,
   "metadata": {},
   "outputs": [],
   "source": [
    "df[df[\"correct_responses\"] == \"None\"].to_csv(\"prev_year_aime_round_1_failed.csv\", index = None)\n",
    "df[df[\"correct_responses\"] != \"None\"].to_csv(\"SFT_samples_prev_year_aime_round_1.csv\", index = None)"
   ]
  },
  {
   "cell_type": "markdown",
   "metadata": {},
   "source": [
    "## Extra code - no need to run"
   ]
  },
  {
   "cell_type": "markdown",
   "metadata": {
    "jp-MarkdownHeadingCollapsed": true
   },
   "source": [
    "## Xtra code"
   ]
  },
  {
   "cell_type": "code",
   "execution_count": null,
   "metadata": {},
   "outputs": [],
   "source": [
    "idxs = [333, 348, 368, 406, 408, 495, 523, 529, 603, 696, 701, 745, 747, 769, 782, 815, 829]\n",
    "len(idxs)"
   ]
  },
  {
   "cell_type": "code",
   "execution_count": null,
   "metadata": {},
   "outputs": [],
   "source": [
    "final_filtered_problems = [final_json[i] for i in range(len(final_json)) if i not in idxs]\n",
    "len(final_filtered_problems)"
   ]
  },
  {
   "cell_type": "code",
   "execution_count": null,
   "metadata": {},
   "outputs": [],
   "source": [
    "\"[/asy]\" in str(final_filtered_problems)"
   ]
  },
  {
   "cell_type": "code",
   "execution_count": null,
   "metadata": {},
   "outputs": [],
   "source": [
    "with open('AIME_full.json','w') as f:\n",
    "    json.dump(final_complete,f)"
   ]
  },
  {
   "cell_type": "code",
   "execution_count": null,
   "metadata": {},
   "outputs": [],
   "source": [
    "# with open('AIME_full.json','r') as f:\n",
    "#     final_complete = json.load(f)\n",
    "\n",
    "# final_questions = []\n",
    "\n",
    "# for ele in final_complete:\n",
    "#     final_questions.extend(extract_json_from_text(ele))\n"
   ]
  },
  {
   "cell_type": "code",
   "execution_count": null,
   "metadata": {},
   "outputs": [],
   "source": [
    "len(final_questions)"
   ]
  },
  {
   "cell_type": "code",
   "execution_count": null,
   "metadata": {},
   "outputs": [],
   "source": [
    "import pandas as pd\n",
    "df=pd.DataFrame(final_json)"
   ]
  },
  {
   "cell_type": "code",
   "execution_count": null,
   "metadata": {},
   "outputs": [],
   "source": [
    "df"
   ]
  },
  {
   "cell_type": "code",
   "execution_count": null,
   "metadata": {},
   "outputs": [],
   "source": [
    "df = df[df[\"answer\"] != -1000].reset_index(drop = True)"
   ]
  },
  {
   "cell_type": "code",
   "execution_count": null,
   "metadata": {},
   "outputs": [],
   "source": [
    "df.to_csv('evan_chan_aime_mock_qns.csv',index=False)"
   ]
  }
 ],
 "metadata": {
  "kernelspec": {
   "display_name": "Python 3 (ipykernel)",
   "language": "python",
   "name": "python3"
  },
  "language_info": {
   "codemirror_mode": {
    "name": "ipython",
    "version": 3
   },
   "file_extension": ".py",
   "mimetype": "text/x-python",
   "name": "python",
   "nbconvert_exporter": "python",
   "pygments_lexer": "ipython3",
   "version": "3.10.7"
  }
 },
 "nbformat": 4,
 "nbformat_minor": 4
}
